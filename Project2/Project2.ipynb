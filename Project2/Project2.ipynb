{
 "cells": [
  {
   "cell_type": "markdown",
   "metadata": {},
   "source": [
    "sources\n",
    "\n"
   ]
  },
  {
   "cell_type": "markdown",
   "metadata": {},
   "source": [
    "read up:\n",
    "\n",
    "Climate Change: Atmospheric Carbon Dioxide (https://www.climate.gov/news-features/understanding-climate/climate-change-atmospheric-carbon-dioxide)\n",
    "\n",
    "CArbon Tracker video:(https://www.youtube.com/watch?v=I7jKxO4nKZc)\n",
    "\n",
    "(check data from papers by Parrenin et al. 2013; Snyder et al. 2016, Bereiter et al. 2015)\n",
    "\n",
    "IPCC report 2023:\n",
    "https://www.ipcc.ch/report/ar6/syr/downloads/report/IPCC_AR6_SYR_FullVolume.pdf\n",
    "\n",
    "\n",
    "\n",
    "Citable Glossary : chrome-extension://efaidnbmnnnibpcajpcglclefindmkaj/https://www.ipcc.ch/report/ar6/syr/downloads/report/IPCC_AR6_SYR_AnnexesIndex.pdf\n",
    "\n",
    "python:\n",
    "Time series analysis and precidction: (https://www.youtube.com/watch?v=ilw2AnNsbIc)\n",
    "Time series: (https://www.youtube.com/watch?v=huNTC4Zw2S8)\n",
    "\n"
   ]
  },
  {
   "cell_type": "markdown",
   "metadata": {},
   "source": []
  }
 ],
 "metadata": {
  "language_info": {
   "name": "python"
  }
 },
 "nbformat": 4,
 "nbformat_minor": 2
}
